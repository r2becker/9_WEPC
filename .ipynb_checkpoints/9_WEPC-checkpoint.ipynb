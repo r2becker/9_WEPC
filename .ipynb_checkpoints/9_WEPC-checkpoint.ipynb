{
 "cells": [
  {
   "cell_type": "code",
   "execution_count": null,
   "id": "d6a794d5-3634-4da5-ad6e-21431ce86444",
   "metadata": {},
   "outputs": [],
   "source": [
    "# Start_date\n",
    "# Writing Efficient Python Code\n",
    "# Chapter 01: Foundations for Efficiencies\n",
    "# Resources: baseball_stats.csv\n",
    "#"
   ]
  },
  {
   "cell_type": "code",
   "execution_count": null,
   "id": "6c32f9ca-727c-4cc6-b5d1-71b2f8698b8a",
   "metadata": {},
   "outputs": [],
   "source": [
    "# Start_date\n",
    "# Writing Efficient Python Code\n",
    "# Chapter 02: Timing and Profiling Code\n",
    "# Resources: baseball_stats.csv\n",
    "#"
   ]
  },
  {
   "cell_type": "code",
   "execution_count": null,
   "id": "02d4ed62-a23c-407d-bc53-29d700b83695",
   "metadata": {},
   "outputs": [],
   "source": [
    "# Start_date\n",
    "# Writing Efficient Python Code\n",
    "# Chapter 03: Gaining Efficiencies\n",
    "# Resources: baseball_stats.csv\n",
    "#"
   ]
  },
  {
   "cell_type": "code",
   "execution_count": null,
   "id": "f0ae49e6-5480-4219-ab4c-834952904567",
   "metadata": {},
   "outputs": [],
   "source": [
    "# Start_date\n",
    "# Writing Efficient Python Code\n",
    "# Chapter 04: Basic Pandas Optimizations\n",
    "# Resources: baseball_stats.csv\n",
    "#"
   ]
  }
 ],
 "metadata": {
  "kernelspec": {
   "display_name": "Python 3 (ipykernel)",
   "language": "python",
   "name": "python3"
  },
  "language_info": {
   "codemirror_mode": {
    "name": "ipython",
    "version": 3
   },
   "file_extension": ".py",
   "mimetype": "text/x-python",
   "name": "python",
   "nbconvert_exporter": "python",
   "pygments_lexer": "ipython3",
   "version": "3.12.10"
  }
 },
 "nbformat": 4,
 "nbformat_minor": 5
}
